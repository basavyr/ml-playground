{
 "cells": [
  {
   "cell_type": "code",
   "execution_count": 27,
   "id": "1359e6a7-2f06-48c6-8e66-9ccd596c4a78",
   "metadata": {},
   "outputs": [],
   "source": [
    "import torch"
   ]
  },
  {
   "cell_type": "code",
   "execution_count": 28,
   "id": "6cbf5559-dce8-418e-9169-4f3175ce3948",
   "metadata": {},
   "outputs": [],
   "source": [
    "device = torch.device(\"cpu\")"
   ]
  },
  {
   "cell_type": "code",
   "execution_count": 29,
   "id": "5b25cafa-07e8-4c20-a13b-e5cfa68a3f4f",
   "metadata": {},
   "outputs": [],
   "source": [
    "batch_size = 5\n",
    "x_dim = 10\n",
    "x=torch.randn((batch_size,x_dim)).to(device) # the size of an input vector x_i is given by x_dim attribute "
   ]
  },
  {
   "cell_type": "code",
   "execution_count": 30,
   "id": "ffbb6475-c91f-482f-b62a-51ce25293ff0",
   "metadata": {},
   "outputs": [],
   "source": [
    "class Model(torch.nn.Module):\n",
    "    \"\"\"\n",
    "    - A simple neural network that takes as input a tensor of size `x_dim`. The model can be used on any arbitrary batch size\n",
    "    \n",
    "    Returns:\n",
    "    - the raw logits from the second fully connected linear layer `fc2` (thus, no activation function is applied on the output layer)\n",
    "    \"\"\"\n",
    "    def __init__(self, x_dim:int):\n",
    "        super(Model,self).__init__()\n",
    "        self.fc1=torch.nn.Linear(x_dim,10)\n",
    "        self.relu=torch.nn.functional.relu\n",
    "        self.fc2=torch.nn.Linear(10,5)\n",
    "    def forward(self, x):\n",
    "        x = self.fc1(x)\n",
    "        x = self.relu(x)\n",
    "        logits = self.fc2(x)        \n",
    "        return logits"
   ]
  },
  {
   "cell_type": "code",
   "execution_count": 31,
   "id": "c9282a5e-5ab1-4992-92b5-be50830b5752",
   "metadata": {},
   "outputs": [
    {
     "data": {
      "text/plain": [
       "tensor([[-0.1613, -0.2618, -0.4080, -0.3863,  0.2303],\n",
       "        [-0.1288, -0.2928, -0.2616, -0.2039, -0.1289],\n",
       "        [-0.3950, -0.0867, -0.3011, -0.4264,  0.2785],\n",
       "        [-0.4504,  0.4033,  0.0631, -0.6520,  0.3022],\n",
       "        [ 0.3708, -0.2286, -0.3370, -0.2398, -0.2313]],\n",
       "       grad_fn=<AddmmBackward0>)"
      ]
     },
     "execution_count": 31,
     "metadata": {},
     "output_type": "execute_result"
    }
   ],
   "source": [
    "net = Model(x_dim)\n",
    "net.to(device)\n",
    "y=net(x)\n",
    "y"
   ]
  },
  {
   "cell_type": "markdown",
   "id": "d17f3745-d291-437f-97fd-38602a9fb1a9",
   "metadata": {},
   "source": [
    "# Utilizing the torch.max function"
   ]
  },
  {
   "cell_type": "code",
   "execution_count": 32,
   "id": "f25e725d-7707-47a8-826b-6134f697f678",
   "metadata": {},
   "outputs": [
    {
     "data": {
      "text/plain": [
       "torch.return_types.max(\n",
       "values=tensor([ 0.2303, -0.1288,  0.2785,  0.4033,  0.3708], grad_fn=<MaxBackward0>),\n",
       "indices=tensor([4, 0, 4, 1, 0]))"
      ]
     },
     "execution_count": 32,
     "metadata": {},
     "output_type": "execute_result"
    }
   ],
   "source": [
    "# when applying torch.max() on the output of the model, the dimension argument will give different results\n",
    "y.max(1)"
   ]
  },
  {
   "cell_type": "code",
   "execution_count": 33,
   "id": "8753298a-e18e-40a2-bf2a-dc7a4fad0418",
   "metadata": {},
   "outputs": [
    {
     "data": {
      "text/plain": [
       "torch.return_types.max(\n",
       "values=tensor([ 0.3708,  0.4033,  0.0631, -0.2039,  0.3022], grad_fn=<MaxBackward0>),\n",
       "indices=tensor([4, 3, 3, 1, 3]))"
      ]
     },
     "execution_count": 33,
     "metadata": {},
     "output_type": "execute_result"
    }
   ],
   "source": [
    "y.max(0)"
   ]
  },
  {
   "cell_type": "code",
   "execution_count": 34,
   "id": "13b55170-897c-4f79-a11a-895fd35c3a6a",
   "metadata": {},
   "outputs": [
    {
     "data": {
      "text/plain": [
       "torch.return_types.max(\n",
       "values=tensor([ 0.2303, -0.1288,  0.2785,  0.4033,  0.3708], grad_fn=<MaxBackward0>),\n",
       "indices=tensor([4, 0, 4, 1, 0]))"
      ]
     },
     "execution_count": 34,
     "metadata": {},
     "output_type": "execute_result"
    }
   ],
   "source": [
    "y.max(-1) # this is similar to dim=1"
   ]
  },
  {
   "cell_type": "code",
   "execution_count": 35,
   "id": "932a2455-c095-48f3-80de-38e73fa76ad0",
   "metadata": {},
   "outputs": [
    {
     "data": {
      "text/plain": [
       "torch.return_types.max(\n",
       "values=tensor([ 0.3708,  0.4033,  0.0631, -0.2039,  0.3022], grad_fn=<MaxBackward0>),\n",
       "indices=tensor([4, 3, 3, 1, 3]))"
      ]
     },
     "execution_count": 35,
     "metadata": {},
     "output_type": "execute_result"
    }
   ],
   "source": [
    "y.max(-2) # this is similar to dim=0"
   ]
  },
  {
   "cell_type": "code",
   "execution_count": null,
   "id": "8de3ce61-2319-43d4-be84-b4ac1e4f6cb7",
   "metadata": {},
   "outputs": [],
   "source": []
  }
 ],
 "metadata": {
  "kernelspec": {
   "display_name": "Python 3 (ipykernel)",
   "language": "python",
   "name": "python3"
  },
  "language_info": {
   "codemirror_mode": {
    "name": "ipython",
    "version": 3
   },
   "file_extension": ".py",
   "mimetype": "text/x-python",
   "name": "python",
   "nbconvert_exporter": "python",
   "pygments_lexer": "ipython3",
   "version": "3.11.9"
  }
 },
 "nbformat": 4,
 "nbformat_minor": 5
}
